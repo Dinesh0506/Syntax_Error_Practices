{
 "cells": [
  {
   "cell_type": "code",
   "execution_count": 1,
   "id": "f6e974dd-4f70-42a6-b1de-104fcd02e18e",
   "metadata": {},
   "outputs": [
    {
     "ename": "SyntaxError",
     "evalue": "invalid syntax. Perhaps you forgot a comma? (2497053111.py, line 1)",
     "output_type": "error",
     "traceback": [
      "\u001b[1;36m  Cell \u001b[1;32mIn[1], line 1\u001b[1;36m\u001b[0m\n\u001b[1;33m    print(hello world)\u001b[0m\n\u001b[1;37m          ^\u001b[0m\n\u001b[1;31mSyntaxError\u001b[0m\u001b[1;31m:\u001b[0m invalid syntax. Perhaps you forgot a comma?\n"
     ]
    }
   ],
   "source": [
    "print(hello world)"
   ]
  },
  {
   "cell_type": "code",
   "execution_count": 2,
   "id": "369f1453-f89c-47a5-a3b5-d0b42c717084",
   "metadata": {},
   "outputs": [
    {
     "name": "stdout",
     "output_type": "stream",
     "text": [
      "hello world\n"
     ]
    }
   ],
   "source": [
    "print(\"hello world\")"
   ]
  },
  {
   "cell_type": "code",
   "execution_count": 3,
   "id": "c0e7e102-2e20-4f61-8ae1-3b6167270f17",
   "metadata": {},
   "outputs": [
    {
     "ename": "SyntaxError",
     "evalue": "expected ':' (1258028675.py, line 2)",
     "output_type": "error",
     "traceback": [
      "\u001b[1;36m  Cell \u001b[1;32mIn[3], line 2\u001b[1;36m\u001b[0m\n\u001b[1;33m    if (a == 15)\u001b[0m\n\u001b[1;37m                ^\u001b[0m\n\u001b[1;31mSyntaxError\u001b[0m\u001b[1;31m:\u001b[0m expected ':'\n"
     ]
    }
   ],
   "source": [
    "a = 15\n",
    "if (a == 15)\n",
    "    print(a)"
   ]
  },
  {
   "cell_type": "code",
   "execution_count": 4,
   "id": "08a30595-fced-48f3-9e68-daab2e5dce05",
   "metadata": {},
   "outputs": [
    {
     "name": "stdout",
     "output_type": "stream",
     "text": [
      "15\n"
     ]
    }
   ],
   "source": [
    "a = 15\n",
    "if (a == 15):\n",
    "    print(a)"
   ]
  },
  {
   "cell_type": "code",
   "execution_count": 5,
   "id": "389f05d5-55fc-445b-b451-247d97104803",
   "metadata": {},
   "outputs": [
    {
     "ename": "SyntaxError",
     "evalue": "invalid syntax. Perhaps you forgot a comma? (4144164594.py, line 3)",
     "output_type": "error",
     "traceback": [
      "\u001b[1;36m  Cell \u001b[1;32mIn[5], line 3\u001b[1;36m\u001b[0m\n\u001b[1;33m    'Ram': 32\u001b[0m\n\u001b[1;37m           ^\u001b[0m\n\u001b[1;31mSyntaxError\u001b[0m\u001b[1;31m:\u001b[0m invalid syntax. Perhaps you forgot a comma?\n"
     ]
    }
   ],
   "source": [
    "ages ={\n",
    "    'Sita': 28,\n",
    "    'Ram': 32\n",
    "    'Sam': 45\n",
    "}\n",
    "print(f'The age of Bob is {ages[\"Ram\"]} years.'"
   ]
  },
  {
   "cell_type": "code",
   "execution_count": 7,
   "id": "af838c2b-3922-43db-bfbc-f611e4a6c767",
   "metadata": {},
   "outputs": [
    {
     "name": "stdout",
     "output_type": "stream",
     "text": [
      "The age of Bob is 32 years.\n"
     ]
    }
   ],
   "source": [
    "ages ={\n",
    "    'Sita': 28,\n",
    "    'Ram': 32,\n",
    "    'Sam': 45\n",
    "}\n",
    "print(f'The age of Bob is {ages[\"Ram\"]} years.')"
   ]
  },
  {
   "cell_type": "code",
   "execution_count": 8,
   "id": "96186f3a-edea-41d5-86b3-4046a1bb3462",
   "metadata": {},
   "outputs": [
    {
     "ename": "SyntaxError",
     "evalue": "expected ':' (4051748618.py, line 1)",
     "output_type": "error",
     "traceback": [
      "\u001b[1;36m  Cell \u001b[1;32mIn[8], line 1\u001b[1;36m\u001b[0m\n\u001b[1;33m    def get_shop()\u001b[0m\n\u001b[1;37m                  ^\u001b[0m\n\u001b[1;31mSyntaxError\u001b[0m\u001b[1;31m:\u001b[0m expected ':'\n"
     ]
    }
   ],
   "source": [
    "def get_shop()\n",
    "    return [\n",
    "        \"Shop 1\",\n",
    "        \"Shop 2\",\n",
    "        \"Shop 3\"\n",
    "    ]\n",
    "# Example of calling the function\n",
    "result = get_shop()\n",
    "print(result)"
   ]
  },
  {
   "cell_type": "code",
   "execution_count": 9,
   "id": "b0301fe1-7b8f-4038-abbd-d727759331ab",
   "metadata": {},
   "outputs": [
    {
     "name": "stdout",
     "output_type": "stream",
     "text": [
      "['Shop 1', 'Shop 2', 'Shop 3']\n"
     ]
    }
   ],
   "source": [
    "def get_shop():\n",
    "    return [\n",
    "        \"Shop 1\",\n",
    "        \"Shop 2\",\n",
    "        \"Shop 3\"\n",
    "    ]\n",
    "# Example of calling the function\n",
    "result = get_shop()\n",
    "print(result)"
   ]
  },
  {
   "cell_type": "code",
   "execution_count": 10,
   "id": "1e000a6d-3ce9-4847-b859-647f125c171f",
   "metadata": {},
   "outputs": [
    {
     "ename": "SyntaxError",
     "evalue": "'(' was never closed (3871604073.py, line 1)",
     "output_type": "error",
     "traceback": [
      "\u001b[1;36m  Cell \u001b[1;32mIn[10], line 1\u001b[1;36m\u001b[0m\n\u001b[1;33m    numbers = (\u001b[0m\n\u001b[1;37m              ^\u001b[0m\n\u001b[1;31mSyntaxError\u001b[0m\u001b[1;31m:\u001b[0m '(' was never closed\n"
     ]
    }
   ],
   "source": [
    "numbers = (\n",
    "    1,\n",
    "    2,\n",
    "    3\n",
    "for num in numbers:\n",
    "    print(num)"
   ]
  },
  {
   "cell_type": "code",
   "execution_count": 11,
   "id": "0d7d3fed-dbba-404d-a79f-c853bf02372e",
   "metadata": {},
   "outputs": [
    {
     "name": "stdout",
     "output_type": "stream",
     "text": [
      "1\n",
      "2\n",
      "3\n"
     ]
    }
   ],
   "source": [
    "numbers = (\n",
    "    1,\n",
    "    2,\n",
    "    3)\n",
    "for num in numbers:\n",
    "    print(num)"
   ]
  },
  {
   "cell_type": "code",
   "execution_count": 12,
   "id": "fc423064-2769-4b4f-9f3b-04fe66bc8047",
   "metadata": {},
   "outputs": [
    {
     "ename": "SyntaxError",
     "evalue": "expected ':' (833702412.py, line 2)",
     "output_type": "error",
     "traceback": [
      "\u001b[1;36m  Cell \u001b[1;32mIn[12], line 2\u001b[1;36m\u001b[0m\n\u001b[1;33m    if name == \"Admin\"\u001b[0m\n\u001b[1;37m                      ^\u001b[0m\n\u001b[1;31mSyntaxError\u001b[0m\u001b[1;31m:\u001b[0m expected ':'\n"
     ]
    }
   ],
   "source": [
    "name = \"Admin\"\n",
    "if name == \"Admin\"\n",
    "    print(\"Admin will give access.\")\n",
    "else:\n",
    "    print(\"Admin will not give access.\")"
   ]
  },
  {
   "cell_type": "code",
   "execution_count": 13,
   "id": "44892f35-976e-48aa-96a7-aac8de8b64dc",
   "metadata": {},
   "outputs": [
    {
     "name": "stdout",
     "output_type": "stream",
     "text": [
      "Admin will give access.\n"
     ]
    }
   ],
   "source": [
    "name = \"Admin\"\n",
    "if name == \"Admin\":\n",
    "    print(\"Admin will give access.\")\n",
    "else:\n",
    "    print(\"Admin will not give access.\")"
   ]
  },
  {
   "cell_type": "code",
   "execution_count": 14,
   "id": "a1689345-ab79-4576-956b-8017ab0c6236",
   "metadata": {},
   "outputs": [
    {
     "ename": "SyntaxError",
     "evalue": "invalid syntax (1742326814.py, line 5)",
     "output_type": "error",
     "traceback": [
      "\u001b[1;36m  Cell \u001b[1;32mIn[14], line 5\u001b[1;36m\u001b[0m\n\u001b[1;33m    iif user_role == \"Admin\":\u001b[0m\n\u001b[1;37m        ^\u001b[0m\n\u001b[1;31mSyntaxError\u001b[0m\u001b[1;31m:\u001b[0m invalid syntax\n"
     ]
    }
   ],
   "source": [
    "#Intentional syntax error: Misspelled 'if' and 'else' keywords\n",
    "user_role = \"Admin\"\n",
    "\n",
    "# Misspelled 'if' as 'iif'\n",
    "iif user_role == \"Admin\":\n",
    "    print(\"Access granted. You are an administrator.\")\n",
    "elsse:\n",
    "    print(\"Access denied. You are not an administrator.\")"
   ]
  },
  {
   "cell_type": "code",
   "execution_count": 15,
   "id": "e2bee952-a504-43cc-8b9a-8a4481aff73f",
   "metadata": {},
   "outputs": [
    {
     "name": "stdout",
     "output_type": "stream",
     "text": [
      "Access granted. You are an administrator.\n"
     ]
    }
   ],
   "source": [
    "#Intentional syntax error: Misspelled 'if' and 'else' keywords\n",
    "user_role = \"Admin\"\n",
    "\n",
    "# Misspelled 'if' as 'iif'\n",
    "if user_role == \"Admin\":\n",
    "    print(\"Access granted. You are an administrator.\")\n",
    "else:\n",
    "    print(\"Access denied. You are not an administrator.\")"
   ]
  },
  {
   "cell_type": "code",
   "execution_count": 16,
   "id": "36af4227-a241-4f88-a9ae-5337a73bc7f7",
   "metadata": {},
   "outputs": [
    {
     "ename": "SyntaxError",
     "evalue": "'[' was never closed (456331463.py, line 5)",
     "output_type": "error",
     "traceback": [
      "\u001b[1;36m  Cell \u001b[1;32mIn[16], line 5\u001b[1;36m\u001b[0m\n\u001b[1;33m    squares = [n**2 for n in numbers\u001b[0m\n\u001b[1;37m              ^\u001b[0m\n\u001b[1;31mSyntaxError\u001b[0m\u001b[1;31m:\u001b[0m '[' was never closed\n"
     ]
    }
   ],
   "source": [
    "# Generating squares for numbers 1 to 5\n",
    "numbers = [1, 2, 3, 4, 5]\n",
    "\n",
    "# List comprehension to calculate squares\n",
    "squares = [n**2 for n in numbers\n",
    "\n",
    "# Printing the result\n",
    "print(squares)\n"
   ]
  },
  {
   "cell_type": "code",
   "execution_count": 17,
   "id": "42d0d27c-7b1a-4e32-bcc6-69cc6dca1c93",
   "metadata": {},
   "outputs": [
    {
     "name": "stdout",
     "output_type": "stream",
     "text": [
      "[1, 4, 9, 16, 25]\n"
     ]
    }
   ],
   "source": [
    "# Generating squares for numbers 1 to 5\n",
    "numbers = [1, 2, 3, 4, 5]\n",
    "\n",
    "# List comprehension to calculate squares\n",
    "squares = [n**2 for n in numbers]\n",
    "\n",
    "# Printing the result\n",
    "print(squares)\n"
   ]
  },
  {
   "cell_type": "code",
   "execution_count": 18,
   "id": "9d0f1116-5213-47a6-97cc-ba71783f165f",
   "metadata": {},
   "outputs": [
    {
     "name": "stdout",
     "output_type": "stream",
     "text": [
      "Hello, Alice!\n"
     ]
    }
   ],
   "source": [
    "def greet(name):\n",
    "      print(f\"Hello, {name}!\")\n",
    "\n",
    "# Attempting to call the function\n",
    "greet(\"Alice\")"
   ]
  },
  {
   "cell_type": "code",
   "execution_count": 19,
   "id": "afabb7ae-56ef-415f-84d2-7debd1d7a69d",
   "metadata": {},
   "outputs": [
    {
     "ename": "SyntaxError",
     "evalue": "'break' outside loop (910211101.py, line 7)",
     "output_type": "error",
     "traceback": [
      "\u001b[1;36m  Cell \u001b[1;32mIn[19], line 7\u001b[1;36m\u001b[0m\n\u001b[1;33m    break  # Intentional syntax error\u001b[0m\n\u001b[1;37m    ^\u001b[0m\n\u001b[1;31mSyntaxError\u001b[0m\u001b[1;31m:\u001b[0m 'break' outside loop\n"
     ]
    }
   ],
   "source": [
    "# Intentional syntax errors: Using 'break' and 'continue' outside of loops\n",
    "persons = ['alice', 'bob', 'charlie']\n",
    "\n",
    "# Using 'break' outside of a loop\n",
    "if 'bob' in persons:\n",
    "    print('Bob found')\n",
    "    break  # Intentional syntax error\n",
    "\n",
    "# Using 'continue' outside of a loop\n",
    "if 'bob' in persons:\n",
    "    print('Bob found')\n",
    "    continue  # Intentional syntax error"
   ]
  },
  {
   "cell_type": "code",
   "execution_count": 20,
   "id": "d5e3846c-70f3-4cd3-bb3e-15518701a647",
   "metadata": {},
   "outputs": [
    {
     "name": "stdout",
     "output_type": "stream",
     "text": [
      "Bob found\n",
      "Bob found\n"
     ]
    }
   ],
   "source": [
    "# Intentional syntax errors: Using 'break' and 'continue' outside of loops\n",
    "persons = ['alice', 'bob', 'charlie']\n",
    "\n",
    "# Using 'break' outside of a loop\n",
    "if 'bob' in persons:\n",
    "    print('Bob found')\n",
    "    #break  # Intentional syntax error\n",
    "\n",
    "# Using 'continue' outside of a loop\n",
    "if 'bob' in persons:\n",
    "    print('Bob found')\n",
    "    #continue  # Intentional syntax error"
   ]
  },
  {
   "cell_type": "code",
   "execution_count": 21,
   "id": "a1646115-c180-4ce7-a775-a7dfb2706253",
   "metadata": {},
   "outputs": [
    {
     "name": "stdout",
     "output_type": "stream",
     "text": [
      "Bob found\n",
      "Processing alice\n",
      "Bob found\n",
      "Processing charlie\n"
     ]
    }
   ],
   "source": [
    "# Corrected code: Using 'break' and 'continue' within loops\n",
    "persons = ['alice', 'bob', 'charlie']\n",
    "\n",
    "# Using 'break' within a loop\n",
    "for person in persons:\n",
    "    if person == 'bob':\n",
    "        print('Bob found')\n",
    "        break  # Exiting the loop when 'bob' is found\n",
    "\n",
    "# Using 'continue' within a loop\n",
    "for person in persons:\n",
    "    if person == 'bob':\n",
    "        print('Bob found')\n",
    "        continue  # Skipping to the next iteration when 'bob' is found\n",
    "    print(f'Processing {person}')\n"
   ]
  },
  {
   "cell_type": "code",
   "execution_count": 22,
   "id": "9c43f1ce-929a-4e75-a2f4-c52a54ad97a7",
   "metadata": {},
   "outputs": [
    {
     "ename": "SyntaxError",
     "evalue": "invalid syntax (2157124720.py, line 1)",
     "output_type": "error",
     "traceback": [
      "\u001b[1;36m  Cell \u001b[1;32mIn[22], line 1\u001b[1;36m\u001b[0m\n\u001b[1;33m    ages = {'pam'; 24}\u001b[0m\n\u001b[1;37m                 ^\u001b[0m\n\u001b[1;31mSyntaxError\u001b[0m\u001b[1;31m:\u001b[0m invalid syntax\n"
     ]
    }
   ],
   "source": [
    "ages = {'pam'; 24}\n",
    "\n",
    "print(ages['pam'])"
   ]
  },
  {
   "cell_type": "code",
   "execution_count": 23,
   "id": "3b251af8-b1fc-4328-8b7d-1b194bee1698",
   "metadata": {},
   "outputs": [
    {
     "name": "stdout",
     "output_type": "stream",
     "text": [
      "24\n"
     ]
    }
   ],
   "source": [
    "ages = {'pam': 24}\n",
    "\n",
    "print(ages['pam'])"
   ]
  },
  {
   "cell_type": "code",
   "execution_count": 26,
   "id": "5107d1a7-820b-42de-88ec-f2c26c52c569",
   "metadata": {},
   "outputs": [
    {
     "name": "stdout",
     "output_type": "stream",
     "text": [
      "Current number: 0, Running sum: 0\n",
      "Current number: 1, Running sum: 1\n",
      "Current number: 2, Running sum: 3\n",
      "Current number: 3, Running sum: 6\n",
      "Current number: 4, Running sum: 10\n"
     ]
    }
   ],
   "source": [
    "def count_and_sum():\n",
    "  total_sum = 0\n",
    "  for i in range(5):\n",
    "      total_sum += i\n",
    "      print(f\"Current number: {i}, Running sum: {total_sum}\")\n",
    "\n",
    "    #print('Done counting and summing')  # Intentional indentation error\n",
    "\n",
    "count_and_sum()"
   ]
  },
  {
   "cell_type": "code",
   "execution_count": 30,
   "id": "42d53e54-8aa9-4f37-866b-896f6b51ad20",
   "metadata": {},
   "outputs": [
    {
     "name": "stdout",
     "output_type": "stream",
     "text": [
      "Student doesn't exist\n"
     ]
    }
   ],
   "source": [
    "subjects = {'Keera': 'Maths', \n",
    "            'karthik': 'Biology', \n",
    "            'naveen': 'Science', \n",
    "            'Vijay': 'Hindi'} \n",
    "# Storing the subject of student \n",
    "# that doesn't exist \n",
    "sub = subjects.get('Hindi',\"Student doesn't exist\") \n",
    "\n",
    "print(sub) "
   ]
  },
  {
   "cell_type": "code",
   "execution_count": 29,
   "id": "7d59e1ea-63a4-4ab2-ac26-ef5442c58498",
   "metadata": {},
   "outputs": [
    {
     "name": "stdout",
     "output_type": "stream",
     "text": [
      "Hindi\n"
     ]
    }
   ],
   "source": [
    "subjects = {'Keera': 'Maths', \n",
    "            'karthik': 'Biology', \n",
    "            'naveen': 'Science', \n",
    "            'Vijay': 'Hindi'} \n",
    "# Storing the subject of student \n",
    "# that doesn't exist \n",
    "sub = subjects.get('Vijay',\"Student doesn't exist\") \n",
    "\n",
    "print(sub) "
   ]
  },
  {
   "cell_type": "code",
   "execution_count": null,
   "id": "495edeb3-056c-4260-974c-e7ada0db60f0",
   "metadata": {},
   "outputs": [],
   "source": []
  }
 ],
 "metadata": {
  "kernelspec": {
   "display_name": "Python 3 (ipykernel)",
   "language": "python",
   "name": "python3"
  },
  "language_info": {
   "codemirror_mode": {
    "name": "ipython",
    "version": 3
   },
   "file_extension": ".py",
   "mimetype": "text/x-python",
   "name": "python",
   "nbconvert_exporter": "python",
   "pygments_lexer": "ipython3",
   "version": "3.11.7"
  }
 },
 "nbformat": 4,
 "nbformat_minor": 5
}
